{
  "nbformat": 4,
  "nbformat_minor": 0,
  "metadata": {
    "colab": {
      "name": "Find Mobile Numbers.ipynb",
      "provenance": [],
      "collapsed_sections": [],
      "authorship_tag": "ABX9TyNlbg0Ue2QMkmJ/AmXvlLwM",
      "include_colab_link": true
    },
    "kernelspec": {
      "name": "python3",
      "display_name": "Python 3"
    },
    "language_info": {
      "name": "python"
    }
  },
  "cells": [
    {
      "cell_type": "markdown",
      "metadata": {
        "id": "view-in-github",
        "colab_type": "text"
      },
      "source": [
        "<a href=\"https://colab.research.google.com/github/Aritra22/pythonptojects/blob/main/Find_Mobile_Numbers.ipynb\" target=\"_parent\"><img src=\"https://colab.research.google.com/assets/colab-badge.svg\" alt=\"Open In Colab\"/></a>"
      ]
    },
    {
      "cell_type": "markdown",
      "metadata": {
        "id": "BRw-sVWhsGuJ"
      },
      "source": [
        "**Find Country Of Mobile Number and it's Operator**"
      ]
    },
    {
      "cell_type": "code",
      "metadata": {
        "id": "_d0QJqQOmLT_"
      },
      "source": [
        "pip install phonenumbers"
      ],
      "execution_count": null,
      "outputs": []
    },
    {
      "cell_type": "code",
      "metadata": {
        "id": "LNTOp-cnmnf9"
      },
      "source": [
        "import phonenumbers\n",
        "numbers = \"+919123014273\"\n",
        "import numbers"
      ],
      "execution_count": 20,
      "outputs": []
    },
    {
      "cell_type": "code",
      "metadata": {
        "colab": {
          "base_uri": "https://localhost:8080/"
        },
        "id": "LGHUV5RypyR-",
        "outputId": "737a9458-1621-481d-83d3-1c55503f1067"
      },
      "source": [
        "from phonenumbers import geocoder\n",
        "country = phonenumbers.parse(number,\"CH\")\n",
        "print(geocoder.description_for_number(country,\"en\"))"
      ],
      "execution_count": 26,
      "outputs": [
        {
          "output_type": "stream",
          "text": [
            "India\n"
          ],
          "name": "stdout"
        }
      ]
    },
    {
      "cell_type": "code",
      "metadata": {
        "colab": {
          "base_uri": "https://localhost:8080/"
        },
        "id": "zh3DCZuerLBV",
        "outputId": "53204d54-cbf1-49e5-f55d-7f1beb8a55c1"
      },
      "source": [
        "from phonenumbers import carrier\n",
        "service = phonenumbers.parse(number,\"SR\")\n",
        "print(carrier.name_for_number(service,\"en\"))"
      ],
      "execution_count": 29,
      "outputs": [
        {
          "output_type": "stream",
          "text": [
            "Reliance Jio\n"
          ],
          "name": "stdout"
        }
      ]
    }
  ]
}